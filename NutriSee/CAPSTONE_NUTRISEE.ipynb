{
  "cells": [
    {
      "attachments": {},
      "cell_type": "markdown",
      "metadata": {
        "id": "yjNgg4uDsT2z"
      },
      "source": [
        "MODEL "
      ]
    },
    {
      "cell_type": "code",
      "execution_count": 5,
      "metadata": {
        "id": "tLY4GCZX4FpZ"
      },
      "outputs": [],
      "source": [
        "import numpy as np\n",
        "import pandas as pd\n",
        "import tensorflow as tf\n",
        "from sklearn.model_selection import train_test_split\n",
        "from sklearn.preprocessing import OneHotEncoder"
      ]
    },
    {
      "cell_type": "code",
      "execution_count": 6,
      "metadata": {},
      "outputs": [],
      "source": [
        "# Baca dataset dari file CSV\n",
        "data = pd.read_excel('food_db.xlsx')"
      ]
    },
    {
      "cell_type": "code",
      "execution_count": 7,
      "metadata": {},
      "outputs": [
        {
          "name": "stdout",
          "output_type": "stream",
          "text": [
            "0      [- 2 bh wortel, kupas, parut, - 2 sdm kismis, ...\n",
            "1      [- 200 gr (2 ikat) baby kailan, potong-potong,...\n",
            "2      [150 gr (3 ikat kecil) kangkung, bersihkan dan...\n",
            "3      [- 200 gr fillet ayam, iris tipis memanjang, -...\n",
            "4      [- 150 gr daging ayam tanpa tulang, potong-pot...\n",
            "                             ...                        \n",
            "983    [Cabe rawit : 2, Cabe keriting: 3, Jeruk nipis...\n",
            "984    [Gyoza : 3 pcs, Nasi putih : 300 g, Cabai rawi...\n",
            "985    [Gyoza : 5 pcs, Jamur Shimeji : 50 g, Bawang b...\n",
            "986    [Gyoza : 3 pcs, Mie rebus instan : 1 bungkus, ...\n",
            "987    [Gyoza : 3 pcs, Bakso Sapi : 8 buah, Tahu Baks...\n",
            "Name: Extracted Ingredients, Length: 988, dtype: object\n"
          ]
        }
      ],
      "source": [
        "import json\n",
        "\n",
        "def extract_ingredients(row):\n",
        "    try:\n",
        "        bahan = json.loads(row)\n",
        "        return [item['bahan'] for item in bahan]\n",
        "    except Exception as e:\n",
        "        return []\n",
        "\n",
        "data['Extracted Ingredients'] = data['Bahan'].apply(extract_ingredients)\n",
        "\n",
        "print(data['Extracted Ingredients'])"
      ]
    },
    {
      "cell_type": "code",
      "execution_count": 8,
      "metadata": {},
      "outputs": [],
      "source": [
        "# Mengisi nilai yang hilang dengan 0\n",
        "data.fillna(0, inplace=True)\n",
        "\n",
        "# Mengubah daftar bahan menjadi string\n",
        "data['Extracted Ingredients'] = data['Extracted Ingredients'].apply(lambda x: [ingredient.replace('-', '') for ingredient in x])\n",
        "data['Ingredients String'] = data['Extracted Ingredients'].apply(lambda x: ', '.join(x))\n",
        "\n",
        "# data['Ingredients String']"
      ]
    },
    {
      "cell_type": "code",
      "execution_count": 9,
      "metadata": {
        "colab": {
          "base_uri": "https://localhost:8080/"
        },
        "id": "QTqNA3VYsYun",
        "outputId": "e9410a99-a823-4ad3-835d-3fc254f2cae8"
      },
      "outputs": [],
      "source": [
        "from sklearn.preprocessing import MultiLabelBinarizer\n",
        "# Menggunakan MultiLabelBinarizer untuk encoding variabel \"Ingredients String\"\n",
        "mlb = MultiLabelBinarizer()\n",
        "bahan_encoded = mlb.fit_transform(data['Ingredients String'])"
      ]
    },
    {
      "cell_type": "code",
      "execution_count": 10,
      "metadata": {},
      "outputs": [
        {
          "name": "stderr",
          "output_type": "stream",
          "text": [
            "e:\\ProgramFiles\\Python\\Python311\\Lib\\site-packages\\sklearn\\preprocessing\\_encoders.py:868: FutureWarning: `sparse` was renamed to `sparse_output` in version 1.2 and will be removed in 1.4. `sparse_output` is ignored unless you leave `sparse` to its default value.\n",
            "  warnings.warn(\n"
          ]
        }
      ],
      "source": [
        "# Menggunakan OneHotEncoder untuk encoding variabel \"Bahan\"\n",
        "bahan = data['Bahan'].values.reshape(-1, 1)  # Reshape to (n_samples, 1)\n",
        "encoder = OneHotEncoder(sparse=False)\n",
        "bahan_encoded = encoder.fit_transform(bahan)\n",
        "\n",
        "# bahan_encoded"
      ]
    },
    {
      "cell_type": "code",
      "execution_count": 11,
      "metadata": {
        "colab": {
          "base_uri": "https://localhost:8080/"
        },
        "id": "NAuSX2Qs2R8D",
        "outputId": "0da3f2f7-0b40-4837-e1bb-4732293e80c1"
      },
      "outputs": [
        {
          "name": "stdout",
          "output_type": "stream",
          "text": [
            "Epoch 1/50\n",
            "988/988 [==============================] - 6s 3ms/step - loss: 7.0772\n",
            "Epoch 2/50\n",
            "988/988 [==============================] - 2s 2ms/step - loss: 6.8363\n",
            "Epoch 3/50\n",
            "988/988 [==============================] - 2s 2ms/step - loss: 6.1759\n",
            "Epoch 4/50\n",
            "988/988 [==============================] - 2s 2ms/step - loss: 5.4375\n",
            "Epoch 5/50\n",
            "988/988 [==============================] - 2s 2ms/step - loss: 4.7614\n",
            "Epoch 6/50\n",
            "988/988 [==============================] - 2s 2ms/step - loss: 4.2057\n",
            "Epoch 7/50\n",
            "988/988 [==============================] - 2s 2ms/step - loss: 3.7522\n",
            "Epoch 8/50\n",
            "988/988 [==============================] - 2s 2ms/step - loss: 3.3887\n",
            "Epoch 9/50\n",
            "988/988 [==============================] - 2s 2ms/step - loss: 3.0944\n",
            "Epoch 10/50\n",
            "988/988 [==============================] - 2s 2ms/step - loss: 2.8674\n",
            "Epoch 11/50\n",
            "988/988 [==============================] - 2s 2ms/step - loss: 2.6701\n",
            "Epoch 12/50\n",
            "988/988 [==============================] - 2s 2ms/step - loss: 2.5327\n",
            "Epoch 13/50\n",
            "988/988 [==============================] - 2s 2ms/step - loss: 2.4041\n",
            "Epoch 14/50\n",
            "988/988 [==============================] - 2s 2ms/step - loss: 2.2861\n",
            "Epoch 15/50\n",
            "988/988 [==============================] - 2s 2ms/step - loss: 2.2136\n",
            "Epoch 16/50\n",
            "988/988 [==============================] - 2s 2ms/step - loss: 2.1010\n",
            "Epoch 17/50\n",
            "988/988 [==============================] - 2s 2ms/step - loss: 2.0427\n",
            "Epoch 18/50\n",
            "988/988 [==============================] - 2s 2ms/step - loss: 1.9727\n",
            "Epoch 19/50\n",
            "988/988 [==============================] - 2s 2ms/step - loss: 1.9026\n",
            "Epoch 20/50\n",
            "988/988 [==============================] - 2s 2ms/step - loss: 1.8497\n",
            "Epoch 21/50\n",
            "988/988 [==============================] - 2s 2ms/step - loss: 1.7959\n",
            "Epoch 22/50\n",
            "988/988 [==============================] - 2s 2ms/step - loss: 1.7577\n",
            "Epoch 23/50\n",
            "988/988 [==============================] - 2s 2ms/step - loss: 1.7019\n",
            "Epoch 24/50\n",
            "988/988 [==============================] - 2s 2ms/step - loss: 1.6649\n",
            "Epoch 25/50\n",
            "988/988 [==============================] - 2s 2ms/step - loss: 1.6216\n",
            "Epoch 26/50\n",
            "988/988 [==============================] - 2s 2ms/step - loss: 1.5798\n",
            "Epoch 27/50\n",
            "988/988 [==============================] - 2s 2ms/step - loss: 1.5712\n",
            "Epoch 28/50\n",
            "988/988 [==============================] - 2s 2ms/step - loss: 1.5329\n",
            "Epoch 29/50\n",
            "988/988 [==============================] - 2s 2ms/step - loss: 1.4995\n",
            "Epoch 30/50\n",
            "988/988 [==============================] - 2s 2ms/step - loss: 1.4537\n",
            "Epoch 31/50\n",
            "988/988 [==============================] - 2s 2ms/step - loss: 1.4440\n",
            "Epoch 32/50\n",
            "988/988 [==============================] - 2s 2ms/step - loss: 1.4156\n",
            "Epoch 33/50\n",
            "988/988 [==============================] - 2s 2ms/step - loss: 1.3779\n",
            "Epoch 34/50\n",
            "988/988 [==============================] - 2s 2ms/step - loss: 1.3711\n",
            "Epoch 35/50\n",
            "988/988 [==============================] - 2s 2ms/step - loss: 1.3555\n",
            "Epoch 36/50\n",
            "988/988 [==============================] - 2s 2ms/step - loss: 1.3358\n",
            "Epoch 37/50\n",
            "988/988 [==============================] - 2s 2ms/step - loss: 1.3259\n",
            "Epoch 38/50\n",
            "988/988 [==============================] - 2s 2ms/step - loss: 1.2775\n",
            "Epoch 39/50\n",
            "988/988 [==============================] - 2s 2ms/step - loss: 1.2892\n",
            "Epoch 40/50\n",
            "988/988 [==============================] - 2s 2ms/step - loss: 1.2494\n",
            "Epoch 41/50\n",
            "988/988 [==============================] - 2s 2ms/step - loss: 1.2585\n",
            "Epoch 42/50\n",
            "988/988 [==============================] - 2s 2ms/step - loss: 1.2689\n",
            "Epoch 43/50\n",
            "988/988 [==============================] - 2s 2ms/step - loss: 1.2141\n",
            "Epoch 44/50\n",
            "988/988 [==============================] - 2s 2ms/step - loss: 1.1812\n",
            "Epoch 45/50\n",
            "988/988 [==============================] - 2s 2ms/step - loss: 1.1866\n",
            "Epoch 46/50\n",
            "988/988 [==============================] - 2s 2ms/step - loss: 1.1637\n",
            "Epoch 47/50\n",
            "988/988 [==============================] - 2s 2ms/step - loss: 1.1648\n",
            "Epoch 48/50\n",
            "988/988 [==============================] - 2s 2ms/step - loss: 1.1549\n",
            "Epoch 49/50\n",
            "988/988 [==============================] - 2s 2ms/step - loss: 1.1236\n",
            "Epoch 50/50\n",
            "988/988 [==============================] - 2s 2ms/step - loss: 1.1129\n"
          ]
        },
        {
          "data": {
            "text/plain": [
              "<keras.callbacks.History at 0x1f515cfddd0>"
            ]
          },
          "execution_count": 11,
          "metadata": {},
          "output_type": "execute_result"
        }
      ],
      "source": [
        "# Membaca atribut gizi sebagai fitur\n",
        "features = data[['Kalori', 'Protein', 'Karbo', 'Lemak', 'Serat']].values\n",
        "\n",
        "# Normalisasi fitur\n",
        "features_norm = (features - features.mean(axis=0)) / features.std(axis=0)\n",
        "\n",
        "# Membaca atribut rekomendasi sebagai target\n",
        "target = data['Makanan'].astype('category').cat.codes\n",
        "\n",
        "# Menggabungkan -0--- dan variabel \"Bahan\" yang telah di-encode\n",
        "features_encoded = np.concatenate((features_norm, bahan_encoded), axis=1)\n",
        "\n",
        "# Membagi data menjadi data pelatihan dan data pengujian\n",
        "X_train, X_test, y_train, y_test = train_test_split(features_norm, target, test_size=0.2, random_state=42)\n",
        "\n",
        "# Membangun model TensorFlow\n",
        "model = tf.keras.Sequential([\n",
        "    tf.keras.layers.Dense(32, activation='relu', input_shape=(5,)),\n",
        "    tf.keras.layers.Dense(64, activation='relu'),\n",
        "    tf.keras.layers.Dense(len(data['Makanan'].unique()), activation='softmax')\n",
        "])\n",
        "\n",
        "model.compile(loss='sparse_categorical_crossentropy', optimizer='adam')\n",
        "\n",
        "# Melatih model\n",
        "model.fit(features_norm, target, epochs=50, batch_size=1)\n",
        "\n"
      ]
    },
    {
      "cell_type": "code",
      "execution_count": 12,
      "metadata": {
        "id": "x1DIcCTzsltA"
      },
      "outputs": [
        {
          "name": "stdout",
          "output_type": "stream",
          "text": [
            "Loss:  0.8062357306480408\n"
          ]
        }
      ],
      "source": [
        "# Evaluasi model dengan data pengujian\n",
        "loss = model.evaluate(X_test, y_test, verbose=0)\n",
        "\n",
        "print(\"Loss: \", loss)\n"
      ]
    },
    {
      "cell_type": "code",
      "execution_count": 13,
      "metadata": {},
      "outputs": [],
      "source": [
        "# menyimpan model\n",
        "model.save('my_model.h5')"
      ]
    },
    {
      "cell_type": "code",
      "execution_count": 14,
      "metadata": {},
      "outputs": [],
      "source": [
        "# fungsi tambahan\n",
        "# function baru (di cek dulu alergi baru dimasukkan di list)\n",
        "def get_top_5_recommendations(nutrition_data, allergies=[]):\n",
        "    # Normalisasi data gizi pengguna\n",
        "    nutrition_data_norm = (nutrition_data - features.mean(axis=0)) / features.std(axis=0)\n",
        "\n",
        "    # Memprediksi probabilitas kelas makanan\n",
        "    predictions = model.predict(np.array([nutrition_data_norm]))\n",
        "    sorted_predictions = np.argsort(predictions[0])[::-1]\n",
        "    # Mendapatkan indeks 5 kelas dengan probabilitas tertinggi\n",
        "    # top_5_indices = np.argsort(predictions[0])[::-1][:5]\n",
        "    recommended_foods = []\n",
        "\n",
        "    for index in sorted_predictions:\n",
        "        # Getting the food name\n",
        "        food = data.loc[index, 'Makanan']\n",
        "\n",
        "        # Checking if the food contains any allergies\n",
        "        if any(allergy in food for allergy in allergies):\n",
        "            continue  # Skip this food if it contains allergens\n",
        "\n",
        "        # Adding the food to the recommended foods list\n",
        "        recommended_foods.append(food)\n",
        "\n",
        "        # Break the loop if we have 5 recommended foods\n",
        "        if len(recommended_foods) == 5:\n",
        "            break\n",
        "\n",
        "    return recommended_foods\n",
        "\n",
        "def calculate_bmr(weight, height, age, gender):\n",
        "    if gender == 'male':\n",
        "        bmr = 10 * weight + 6.25 * height - 5 * age + 5\n",
        "    else:\n",
        "        bmr = 10 * weight + 6.25 * height - 5 * age - 161\n",
        "    return bmr"
      ]
    },
    {
      "cell_type": "code",
      "execution_count": 15,
      "metadata": {
        "colab": {
          "base_uri": "https://localhost:8080/"
        },
        "id": "fLjp3FVtsuZL",
        "outputId": "d7990977-e6e1-4128-fc4d-2413b16f0b1d"
      },
      "outputs": [
        {
          "name": "stdout",
          "output_type": "stream",
          "text": [
            "1/1 [==============================] - 1s 543ms/step\n",
            "Rekomendasi makanan:\n",
            "Fu Yung Hai Asam Manis\n",
            "Sweet Sour Salad Gyoza\n",
            "Sup Udang Jamur Merdeka\n",
            "Mie Lidi Merdeka\n",
            "Nasi Ulam Betawi\n"
          ]
        }
      ],
      "source": [
        "# Contoh penggunaan\n",
        "weight = 80  # Ganti dengan berat badan pengguna dalam kilogram\n",
        "height = 180  # Ganti dengan tinggi badan pengguna dalam sentimeter\n",
        "age = 21  # Ganti dengan usia pengguna\n",
        "gender = 'Male'  # Ganti dengan jenis kelamin pengguna ('Male' atau 'Female')\n",
        "allergies = ['Ayam', 'Tauge']  # Ganti dengan daftar alergi pengguna, kosongkan jika tidak ada\n",
        "\n",
        "bmr = calculate_bmr(weight, height, age, gender)\n",
        "nutrition_data = [bmr]  # Gunakan BMR sebagai kalori makanan yang direkomendasikan\n",
        "\n",
        "# Mendapatkan rekomendasi makanan\n",
        "recommended_foods = get_top_5_recommendations(nutrition_data, allergies)\n",
        "print(\"Rekomendasi makanan:\")\n",
        "for food in recommended_foods:\n",
        "    print(food)"
      ]
    },
    {
      "cell_type": "code",
      "execution_count": null,
      "metadata": {
        "id": "AfJwCj6h4vXc"
      },
      "outputs": [],
      "source": []
    }
  ],
  "metadata": {
    "colab": {
      "provenance": []
    },
    "kernelspec": {
      "display_name": "Python 3",
      "name": "python3"
    },
    "language_info": {
      "codemirror_mode": {
        "name": "ipython",
        "version": 3
      },
      "file_extension": ".py",
      "mimetype": "text/x-python",
      "name": "python",
      "nbconvert_exporter": "python",
      "pygments_lexer": "ipython3",
      "version": "3.11.0"
    }
  },
  "nbformat": 4,
  "nbformat_minor": 0
}
