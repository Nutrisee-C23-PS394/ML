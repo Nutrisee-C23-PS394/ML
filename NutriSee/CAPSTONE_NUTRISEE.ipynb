{
  "cells": [
    {
      "cell_type": "markdown",
      "source": [
        "MODEL "
      ],
      "metadata": {
        "id": "yjNgg4uDsT2z"
      }
    },
    {
      "cell_type": "code",
      "source": [
        "import numpy as np\n",
        "import pandas as pd\n",
        "import tensorflow as tf\n",
        "from sklearn.model_selection import train_test_split"
      ],
      "metadata": {
        "id": "tLY4GCZX4FpZ"
      },
      "execution_count": null,
      "outputs": []
    },
    {
      "cell_type": "code",
      "source": [
        "# Baca dataset dari file CSV\n",
        "data = pd.read_excel('foodd.xlsx')  \n",
        "\n",
        "# Mengisi nilai yang hilang dengan 0\n",
        "data.fillna(0, inplace=True)\n",
        "\n",
        "# Membaca atribut gizi sebagai fitur\n",
        "features = data[['Kalori', 'Protein', 'Karbo', 'Lemak', 'Serat']].values\n",
        "\n",
        "# Normalisasi fitur\n",
        "features_norm = (features - features.mean(axis=0)) / features.std(axis=0)\n",
        "\n",
        "# Membaca atribut rekomendasi sebagai target\n",
        "target = data['Makanan'].astype('category').cat.codes\n",
        "\n",
        "# Membagi data menjadi data pelatihan dan data pengujian\n",
        "X_train, X_test, y_train, y_test = train_test_split(features_norm, target, test_size=0.2, random_state=42)\n",
        "\n",
        "# Membangun model TensorFlow\n",
        "model = tf.keras.Sequential([\n",
        "    tf.keras.layers.Dense(32, activation='relu', input_shape=(5,)),\n",
        "    tf.keras.layers.Dense(64, activation='relu'),\n",
        "    tf.keras.layers.Dense(len(data['Makanan'].unique()), activation='softmax')\n",
        "])\n",
        "\n",
        "model.compile(loss='sparse_categorical_crossentropy', optimizer='adam')\n",
        "\n",
        "# Melatih model\n",
        "model.fit(features_norm, target, epochs=10, batch_size=1)\n",
        "\n"
      ],
      "metadata": {
        "colab": {
          "base_uri": "https://localhost:8080/"
        },
        "id": "QTqNA3VYsYun",
        "outputId": "e9410a99-a823-4ad3-835d-3fc254f2cae8"
      },
      "execution_count": null,
      "outputs": [
        {
          "output_type": "stream",
          "name": "stdout",
          "text": [
            "Epoch 1/10\n",
            "982/982 [==============================] - 3s 3ms/step - loss: 7.0631\n",
            "Epoch 2/10\n",
            "982/982 [==============================] - 3s 3ms/step - loss: 6.7462\n",
            "Epoch 3/10\n",
            "982/982 [==============================] - 3s 3ms/step - loss: 6.1425\n",
            "Epoch 4/10\n",
            "982/982 [==============================] - 2s 2ms/step - loss: 5.4833\n",
            "Epoch 5/10\n",
            "982/982 [==============================] - 2s 2ms/step - loss: 4.9355\n",
            "Epoch 6/10\n",
            "982/982 [==============================] - 3s 3ms/step - loss: 4.4326\n",
            "Epoch 7/10\n",
            "982/982 [==============================] - 3s 3ms/step - loss: 4.0159\n",
            "Epoch 8/10\n",
            "982/982 [==============================] - 2s 2ms/step - loss: 3.6495\n",
            "Epoch 9/10\n",
            "982/982 [==============================] - 2s 2ms/step - loss: 3.3413\n",
            "Epoch 10/10\n",
            "982/982 [==============================] - 3s 3ms/step - loss: 3.0883\n"
          ]
        },
        {
          "output_type": "execute_result",
          "data": {
            "text/plain": [
              "<keras.callbacks.History at 0x7f4619e75240>"
            ]
          },
          "metadata": {},
          "execution_count": 45
        }
      ]
    },
    {
      "cell_type": "code",
      "source": [
        "# Evaluasi model dengan data pengujian\n",
        "loss = model.evaluate(X_test, y_test, verbose=0)\n",
        "\n",
        "print(\"Loss: \", loss)\n"
      ],
      "metadata": {
        "colab": {
          "base_uri": "https://localhost:8080/"
        },
        "id": "NAuSX2Qs2R8D",
        "outputId": "0da3f2f7-0b40-4837-e1bb-4732293e80c1"
      },
      "execution_count": null,
      "outputs": [
        {
          "output_type": "stream",
          "name": "stdout",
          "text": [
            "Loss:  2.640801191329956\n"
          ]
        }
      ]
    },
    {
      "cell_type": "code",
      "source": [
        "# Fungsi untuk merekomendasikan makanan berdasarkan data gizi pengguna\n",
        "def recommend_food(nutrition_data, allergies=[]):\n",
        "    # Normalisasi data gizi pengguna\n",
        "    nutrition_data_norm = (nutrition_data - features.mean(axis=0)) / features.std(axis=0)\n",
        "\n",
        "    # Memprediksi kelas makanan\n",
        "    prediction = model.predict(np.array([nutrition_data_norm]))\n",
        "\n",
        "    # Mendapatkan indeks kelas dengan probabilitas tertinggi\n",
        "    predicted_class_index = np.argmax(prediction)\n",
        "\n",
        "    # Mendapatkan nama makanan yang direkomendasikan\n",
        "    recommended_food = data.loc[data['Makanan'].astype('category').cat.codes == predicted_class_index, 'Makanan'].values\n",
        "\n",
        "    if len(recommended_food) > 0:\n",
        "        recommended_food = recommended_food[0]\n",
        "        # Pengecualian jika memiliki alergi terhadap makanan tertentu\n",
        "        if recommended_food in allergies:\n",
        "            return \"Anda memiliki alergi terhadap makanan ini. Silakan coba makanan lain.\"\n",
        "        else:\n",
        "            return recommended_food\n",
        "    else:\n",
        "        return \"Tidak ada makanan yang cocok dengan kebutuhan gizi Anda.\"\n",
        "\n",
        "# Fungsi untuk menghitung BMR (Basal Metabolic Rate)\n",
        "def calculate_bmr(weight, height, age, gender):\n",
        "    if gender == 'male':\n",
        "        bmr = 10 * weight + 6.25 * height - 5 * age + 5\n",
        "    else:\n",
        "        bmr = 10 * weight + 6.25 * height - 5 * age - 161\n",
        "    return bmr\n"
      ],
      "metadata": {
        "id": "x1DIcCTzsltA"
      },
      "execution_count": null,
      "outputs": []
    },
    {
      "cell_type": "code",
      "source": [
        "# Contoh penggunaan\n",
        "weight = 57  # Ganti dengan berat badan pengguna dalam kilogram\n",
        "height = 155  # Ganti dengan tinggi badan pengguna dalam sentimeter\n",
        "age = 21  # Ganti dengan usia pengguna\n",
        "gender = 'female'  # Ganti dengan jenis kelamin pengguna ('male' atau 'female')\n",
        "allergies = ['Telur', 'Kacang']  # Ganti dengan daftar alergi pengguna, kosongkan jika tidak ada\n",
        "\n",
        "bmr = calculate_bmr(weight, height, age, gender)\n",
        "nutrition_data = [bmr, 100, 80, 120, 20]  # Gunakan BMR sebagai kalori makanan yang direkomendasikan\n",
        "\n",
        "recommended_food = recommend_food(nutrition_data, allergies)\n",
        "print(\"Makanan yang direkomendasikan: \", recommended_food)"
      ],
      "metadata": {
        "colab": {
          "base_uri": "https://localhost:8080/"
        },
        "id": "fLjp3FVtsuZL",
        "outputId": "d7990977-e6e1-4128-fc4d-2413b16f0b1d"
      },
      "execution_count": null,
      "outputs": [
        {
          "output_type": "stream",
          "name": "stdout",
          "text": [
            "1/1 [==============================] - 0s 38ms/step\n",
            "Makanan yang direkomendasikan:   Soto Banjar  \n"
          ]
        }
      ]
    },
    {
      "cell_type": "code",
      "source": [],
      "metadata": {
        "id": "AfJwCj6h4vXc"
      },
      "execution_count": null,
      "outputs": []
    }
  ],
  "metadata": {
    "colab": {
      "provenance": []
    },
    "kernelspec": {
      "display_name": "Python 3",
      "name": "python3"
    },
    "language_info": {
      "name": "python"
    }
  },
  "nbformat": 4,
  "nbformat_minor": 0
}