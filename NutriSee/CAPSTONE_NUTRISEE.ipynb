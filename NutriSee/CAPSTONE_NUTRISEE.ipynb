{
  "cells": [
    {
      "attachments": {},
      "cell_type": "markdown",
      "metadata": {
        "id": "yjNgg4uDsT2z"
      },
      "source": [
        "MODEL "
      ]
    },
    {
      "cell_type": "code",
      "execution_count": null,
      "metadata": {
        "id": "tLY4GCZX4FpZ"
      },
      "outputs": [],
      "source": [
        "import numpy as np\n",
        "import pandas as pd\n",
        "import tensorflow as tf\n",
        "from sklearn.model_selection import train_test_split\n",
        "from sklearn.preprocessing import OneHotEncoder"
      ]
    },
    {
      "cell_type": "code",
      "execution_count": null,
      "metadata": {},
      "outputs": [],
      "source": [
        "# Baca dataset dari file CSV\n",
        "data = pd.read_excel('food_db.xlsx')"
      ]
    },
    {
      "cell_type": "code",
      "execution_count": null,
      "metadata": {},
      "outputs": [],
      "source": [
        "import json\n",
        "\n",
        "def extract_ingredients(row):\n",
        "    try:\n",
        "        bahan = json.loads(row)\n",
        "        return [item['bahan'] for item in bahan]\n",
        "    except Exception as e:\n",
        "        return []\n",
        "\n",
        "data['Extracted Ingredients'] = data['Bahan'].apply(extract_ingredients)\n",
        "\n",
        "print(data['Extracted Ingredients'])"
      ]
    },
    {
      "cell_type": "code",
      "execution_count": null,
      "metadata": {},
      "outputs": [],
      "source": [
        "# Mengisi nilai yang hilang dengan 0\n",
        "data.fillna(0, inplace=True)\n",
        "\n",
        "# Mengubah daftar bahan menjadi string\n",
        "data['Extracted Ingredients'] = data['Extracted Ingredients'].apply(lambda x: [ingredient.replace('-', '') for ingredient in x])\n",
        "data['Ingredients String'] = data['Extracted Ingredients'].apply(lambda x: ', '.join(x))\n",
        "\n",
        "# data['Ingredients String']"
      ]
    },
    {
      "cell_type": "code",
      "execution_count": null,
      "metadata": {
        "colab": {
          "base_uri": "https://localhost:8080/"
        },
        "id": "QTqNA3VYsYun",
        "outputId": "e9410a99-a823-4ad3-835d-3fc254f2cae8"
      },
      "outputs": [
        {
          "name": "stdout",
          "output_type": "stream",
          "text": [
            "Epoch 1/10\n",
            "982/982 [==============================] - 3s 3ms/step - loss: 7.0631\n",
            "Epoch 2/10\n",
            "982/982 [==============================] - 3s 3ms/step - loss: 6.7462\n",
            "Epoch 3/10\n",
            "982/982 [==============================] - 3s 3ms/step - loss: 6.1425\n",
            "Epoch 4/10\n",
            "982/982 [==============================] - 2s 2ms/step - loss: 5.4833\n",
            "Epoch 5/10\n",
            "982/982 [==============================] - 2s 2ms/step - loss: 4.9355\n",
            "Epoch 6/10\n",
            "982/982 [==============================] - 3s 3ms/step - loss: 4.4326\n",
            "Epoch 7/10\n",
            "982/982 [==============================] - 3s 3ms/step - loss: 4.0159\n",
            "Epoch 8/10\n",
            "982/982 [==============================] - 2s 2ms/step - loss: 3.6495\n",
            "Epoch 9/10\n",
            "982/982 [==============================] - 2s 2ms/step - loss: 3.3413\n",
            "Epoch 10/10\n",
            "982/982 [==============================] - 3s 3ms/step - loss: 3.0883\n"
          ]
        },
        {
          "data": {
            "text/plain": [
              "<keras.callbacks.History at 0x7f4619e75240>"
            ]
          },
          "execution_count": 45,
          "metadata": {},
          "output_type": "execute_result"
        }
      ],
      "source": [
        "from sklearn.preprocessing import MultiLabelBinarizer\n",
        "# Menggunakan MultiLabelBinarizer untuk encoding variabel \"Ingredients String\"\n",
        "mlb = MultiLabelBinarizer()\n",
        "bahan_encoded = mlb.fit_transform(data['Ingredients String'])"
      ]
    },
    {
      "cell_type": "code",
      "execution_count": null,
      "metadata": {},
      "outputs": [],
      "source": [
        "# Menggunakan OneHotEncoder untuk encoding variabel \"Bahan\"\n",
        "bahan = data['Bahan'].values.reshape(-1, 1)  # Reshape to (n_samples, 1)\n",
        "encoder = OneHotEncoder(sparse=False)\n",
        "bahan_encoded = encoder.fit_transform(bahan)\n",
        "\n",
        "# bahan_encoded"
      ]
    },
    {
      "cell_type": "code",
      "execution_count": null,
      "metadata": {
        "colab": {
          "base_uri": "https://localhost:8080/"
        },
        "id": "NAuSX2Qs2R8D",
        "outputId": "0da3f2f7-0b40-4837-e1bb-4732293e80c1"
      },
      "outputs": [
        {
          "name": "stdout",
          "output_type": "stream",
          "text": [
            "Loss:  2.640801191329956\n"
          ]
        }
      ],
      "source": [
        "# Membaca atribut gizi sebagai fitur\n",
        "features = data[['Kalori', 'Protein', 'Karbo', 'Lemak', 'Serat']].values\n",
        "\n",
        "# Normalisasi fitur\n",
        "features_norm = (features - features.mean(axis=0)) / features.std(axis=0)\n",
        "\n",
        "# Membaca atribut rekomendasi sebagai target\n",
        "target = data['Makanan'].astype('category').cat.codes\n",
        "\n",
        "# Menggabungkan -0--- dan variabel \"Bahan\" yang telah di-encode\n",
        "features_encoded = np.concatenate((features_norm, bahan_encoded), axis=1)\n",
        "\n",
        "# Membagi data menjadi data pelatihan dan data pengujian\n",
        "X_train, X_test, y_train, y_test = train_test_split(features_norm, target, test_size=0.2, random_state=42)\n",
        "\n",
        "# Membangun model TensorFlow\n",
        "model = tf.keras.Sequential([\n",
        "    tf.keras.layers.Dense(32, activation='relu', input_shape=(5,)),\n",
        "    tf.keras.layers.Dense(64, activation='relu'),\n",
        "    tf.keras.layers.Dense(len(data['Makanan'].unique()), activation='softmax')\n",
        "])\n",
        "\n",
        "model.compile(loss='sparse_categorical_crossentropy', optimizer='adam')\n",
        "\n",
        "# Melatih model\n",
        "model.fit(features_norm, target, epochs=50, batch_size=1)\n",
        "\n"
      ]
    },
    {
      "cell_type": "code",
      "execution_count": null,
      "metadata": {
        "id": "x1DIcCTzsltA"
      },
      "outputs": [],
      "source": [
        "# Evaluasi model dengan data pengujian\n",
        "loss = model.evaluate(X_test, y_test, verbose=0)\n",
        "\n",
        "print(\"Loss: \", loss)\n"
      ]
    },
    {
      "cell_type": "code",
      "execution_count": null,
      "metadata": {},
      "outputs": [],
      "source": [
        "# menyimpan model\n",
        "model.save('my_model.h5')"
      ]
    },
    {
      "cell_type": "code",
      "execution_count": null,
      "metadata": {},
      "outputs": [],
      "source": [
        "# fungsi tambahan\n",
        "# function baru (di cek dulu alergi baru dimasukkan di list)\n",
        "def get_top_5_recommendations(nutrition_data, allergies=[]):\n",
        "    # Normalisasi data gizi pengguna\n",
        "    nutrition_data_norm = (nutrition_data - features.mean(axis=0)) / features.std(axis=0)\n",
        "\n",
        "    # Memprediksi probabilitas kelas makanan\n",
        "    predictions = model.predict(np.array([nutrition_data_norm]))\n",
        "    sorted_predictions = np.argsort(predictions[0])[::-1]\n",
        "    # Mendapatkan indeks 5 kelas dengan probabilitas tertinggi\n",
        "    # top_5_indices = np.argsort(predictions[0])[::-1][:5]\n",
        "    recommended_foods = []\n",
        "\n",
        "    for index in sorted_predictions:\n",
        "        # Getting the food name\n",
        "        food = data.loc[index, 'Makanan']\n",
        "\n",
        "        # Checking if the food contains any allergies\n",
        "        if any(allergy in food for allergy in allergies):\n",
        "            continue  # Skip this food if it contains allergens\n",
        "\n",
        "        # Adding the food to the recommended foods list\n",
        "        recommended_foods.append(food)\n",
        "\n",
        "        # Break the loop if we have 5 recommended foods\n",
        "        if len(recommended_foods) == 5:\n",
        "            break\n",
        "\n",
        "    return recommended_foods\n",
        "\n",
        "def calculate_bmr(weight, height, age, gender):\n",
        "    if gender == 'male':\n",
        "        bmr = 10 * weight + 6.25 * height - 5 * age + 5\n",
        "    else:\n",
        "        bmr = 10 * weight + 6.25 * height - 5 * age - 161\n",
        "    return bmr"
      ]
    },
    {
      "cell_type": "code",
      "execution_count": null,
      "metadata": {
        "colab": {
          "base_uri": "https://localhost:8080/"
        },
        "id": "fLjp3FVtsuZL",
        "outputId": "d7990977-e6e1-4128-fc4d-2413b16f0b1d"
      },
      "outputs": [
        {
          "name": "stdout",
          "output_type": "stream",
          "text": [
            "1/1 [==============================] - 0s 38ms/step\n",
            "Makanan yang direkomendasikan:   Soto Banjar  \n"
          ]
        }
      ],
      "source": [
        "# Contoh penggunaan\n",
        "weight = 80  # Ganti dengan berat badan pengguna dalam kilogram\n",
        "height = 180  # Ganti dengan tinggi badan pengguna dalam sentimeter\n",
        "age = 21  # Ganti dengan usia pengguna\n",
        "gender = 'Male'  # Ganti dengan jenis kelamin pengguna ('Male' atau 'Female')\n",
        "allergies = ['Ayam', 'Tauge']  # Ganti dengan daftar alergi pengguna, kosongkan jika tidak ada\n",
        "\n",
        "bmr = calculate_bmr(weight, height, age, gender)\n",
        "nutrition_data = [bmr]  # Gunakan BMR sebagai kalori makanan yang direkomendasikan\n",
        "\n",
        "# Mendapatkan rekomendasi makanan\n",
        "recommended_foods = get_top_5_recommendations(nutrition_data, allergies)\n",
        "print(\"Rekomendasi makanan:\")\n",
        "for food in recommended_foods:\n",
        "    print(food)"
      ]
    },
    {
      "cell_type": "code",
      "execution_count": null,
      "metadata": {
        "id": "AfJwCj6h4vXc"
      },
      "outputs": [],
      "source": []
    }
  ],
  "metadata": {
    "colab": {
      "provenance": []
    },
    "kernelspec": {
      "display_name": "Python 3",
      "name": "python3"
    },
    "language_info": {
      "name": "python"
    }
  },
  "nbformat": 4,
  "nbformat_minor": 0
}
